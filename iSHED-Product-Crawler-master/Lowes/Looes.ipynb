{
 "cells": [
  {
   "cell_type": "code",
   "execution_count": 1,
   "metadata": {},
   "outputs": [],
   "source": [
    "from bs4 import BeautifulSoup\n",
    "import requests\n",
    "import lxml\n",
    "from fake_useragent import UserAgent"
   ]
  },
  {
   "cell_type": "code",
   "execution_count": 2,
   "metadata": {},
   "outputs": [
    {
     "name": "stdout",
     "output_type": "stream",
     "text": [
      "esktop\\appdata\\local\\programs\\python\\python37\\lib\\site-packages\\ipykernel_launcher.py%20-f%20C:\\Users\\Desktop\\AppData\\Roaming\\jupyter\\runtime\\kernel-5f5545c2-1266-4000-bed9-cbf9b4f019d7.json\n",
      "URL https://www.lowes.com/search?searchTerm=microwaves\n"
     ]
    }
   ],
   "source": [
    "from bs4 import BeautifulSoup\n",
    "from array import *\n",
    "import requests\n",
    "import sys\n",
    "import math\n",
    "import urllib.request\n",
    "import platform\n",
    "import urllib\n",
    "import csv\n",
    "qryparam = ''\n",
    "for arg in sys.argv:\n",
    "    qryparam = qryparam + '%20' + arg\n",
    "qryparam = qryparam[13:]\n",
    "print(qryparam)\n",
    "# print(sys.argv)\n",
    "\n",
    "#product-cards-grid\n",
    "baseReqStr = 'https://www.lowes.com/search?searchTerm=microwaves'\n",
    "hdr = {'User-Agent': 'Mozilla/5.0', \"content-type\": \"text\"}\n",
    "print('URL', baseReqStr)\n",
    "response = requests.get(baseReqStr)\n",
    "soup = BeautifulSoup(response.text, 'html.parser')\n"
   ]
  },
  {
   "cell_type": "code",
   "execution_count": 4,
   "metadata": {},
   "outputs": [
    {
     "data": {
      "text/plain": [
       "[]"
      ]
     },
     "execution_count": 4,
     "metadata": {},
     "output_type": "execute_result"
    }
   ],
   "source": [
    "soup.findAll(\"span\", {\"class\":\"h5\"})"
   ]
  },
  {
   "cell_type": "code",
   "execution_count": 6,
   "metadata": {},
   "outputs": [
    {
     "name": "stdout",
     "output_type": "stream",
     "text": [
      "<span class=\"art-pl-itemNum art-sr-itemNum\">878060</span>\n",
      "<span class=\"art-pl-modelNum art-sr-modelNum\">WMH31017HZ</span>\n",
      "<span aria-label=\"Rated 4.5 Stars\">\n",
      "<i aria-hidden=\"true\" class=\"icon-product-rating-45 ratings-small met-product-rating art-pl-productRatings0\" data-rating=\"4.6027\" title=\"Rated 4.5 Stars\"></i>\n",
      "</span>\n",
      "<span>Enter your location</span>\n",
      "<span class=\"input-group-btn\">\n",
      "<button class=\"btn btn-primary js-list-zip-entry-submit met-zip-submit\" data-linkid=\"get-pricing-and-availability-zip-in-modal-submit\" tabindex=\"-1\" type=\"submit\">OK</button>\n",
      "</span>\n",
      "<span class=\"inline-help\">ZIP Code</span>\n",
      "<span class=\"checkbox-label\">Compare</span>\n",
      "<span aria-label=\"Rated 4.5 Stars\">\n",
      "<i aria-hidden=\"true\" class=\"icon-product-rating-45 ratings-small met-product-rating art-pl-productRatings1\" data-rating=\"4.6013\" title=\"Rated 4.5 Stars\"></i>\n",
      "</span>\n",
      "<span>Enter your location</span>\n",
      "<span class=\"input-group-btn\">\n",
      "<button class=\"btn btn-primary js-list-zip-entry-submit met-zip-submit\" data-linkid=\"get-pricing-and-availability-zip-in-modal-submit\" tabindex=\"-1\" type=\"submit\">OK</button>\n",
      "</span>\n",
      "<span class=\"inline-help\">ZIP Code</span>\n",
      "<span class=\"checkbox-label\">Compare</span>\n",
      "<span class=\"art-pl-itemNum art-sr-itemNum\">589359</span>\n",
      "<span class=\"art-pl-modelNum art-sr-modelNum\">ME18H704SFS</span>\n",
      "<span aria-label=\"Rated 4.0 Stars\">\n",
      "<i aria-hidden=\"true\" class=\"icon-product-rating-40 ratings-small met-product-rating art-pl-productRatings2\" data-rating=\"4.0945\" title=\"Rated 4.0 Stars\"></i>\n",
      "</span>\n",
      "<span>Enter your location</span>\n",
      "<span class=\"input-group-btn\">\n",
      "<button class=\"btn btn-primary js-list-zip-entry-submit met-zip-submit\" data-linkid=\"get-pricing-and-availability-zip-in-modal-submit\" tabindex=\"-1\" type=\"submit\">OK</button>\n",
      "</span>\n",
      "<span class=\"inline-help\">ZIP Code</span>\n",
      "<span class=\"checkbox-label\">Compare</span>\n",
      "<span class=\"art-pl-itemNum art-sr-itemNum\">1296953</span>\n",
      "<span class=\"art-pl-modelNum art-sr-modelNum\">LMV1760ST</span>\n",
      "<span aria-label=\"Rated 4.5 Stars\">\n",
      "<i aria-hidden=\"true\" class=\"icon-product-rating-45 ratings-small met-product-rating art-pl-productRatings3\" data-rating=\"4.64\" title=\"Rated 4.5 Stars\"></i>\n",
      "</span>\n",
      "<span>Enter your location</span>\n",
      "<span class=\"input-group-btn\">\n",
      "<button class=\"btn btn-primary js-list-zip-entry-submit met-zip-submit\" data-linkid=\"get-pricing-and-availability-zip-in-modal-submit\" tabindex=\"-1\" type=\"submit\">OK</button>\n",
      "</span>\n",
      "<span class=\"inline-help\">ZIP Code</span>\n",
      "<span class=\"checkbox-label\">Compare</span>\n",
      "<span class=\"art-pl-itemNum art-sr-itemNum\">848356</span>\n",
      "<span class=\"art-pl-modelNum art-sr-modelNum\">FGMV176NTF</span>\n",
      "<span aria-label=\"Rated 4.5 Stars\">\n",
      "<i aria-hidden=\"true\" class=\"icon-product-rating-45 ratings-small met-product-rating art-pl-productRatings4\" data-rating=\"4.5263\" title=\"Rated 4.5 Stars\"></i>\n",
      "</span>\n",
      "<span>Enter your location</span>\n",
      "<span class=\"input-group-btn\">\n",
      "<button class=\"btn btn-primary js-list-zip-entry-submit met-zip-submit\" data-linkid=\"get-pricing-and-availability-zip-in-modal-submit\" tabindex=\"-1\" type=\"submit\">OK</button>\n",
      "</span>\n",
      "<span class=\"inline-help\">ZIP Code</span>\n",
      "<span class=\"checkbox-label\">Compare</span>\n",
      "<span class=\"art-pl-itemNum art-sr-itemNum\">907498</span>\n",
      "<span class=\"art-pl-modelNum art-sr-modelNum\">WMH32519HZ</span>\n",
      "<span aria-label=\"Rated 4.5 Stars\">\n",
      "<i aria-hidden=\"true\" class=\"icon-product-rating-45 ratings-small met-product-rating art-pl-productRatings5\" data-rating=\"4.6648\" title=\"Rated 4.5 Stars\"></i>\n",
      "</span>\n",
      "<span>Enter your location</span>\n",
      "<span class=\"input-group-btn\">\n",
      "<button class=\"btn btn-primary js-list-zip-entry-submit met-zip-submit\" data-linkid=\"get-pricing-and-availability-zip-in-modal-submit\" tabindex=\"-1\" type=\"submit\">OK</button>\n",
      "</span>\n",
      "<span class=\"inline-help\">ZIP Code</span>\n",
      "<span class=\"checkbox-label\">Compare</span>\n",
      "<span class=\"art-pl-itemNum art-sr-itemNum\">848354</span>\n",
      "<span class=\"art-pl-modelNum art-sr-modelNum\">LFMV1645TF</span>\n",
      "<span aria-label=\"Rated 4.0 Stars\">\n",
      "<i aria-hidden=\"true\" class=\"icon-product-rating-40 ratings-small met-product-rating art-pl-productRatings6\" data-rating=\"4.2022\" title=\"Rated 4.0 Stars\"></i>\n",
      "</span>\n",
      "<span>Enter your location</span>\n",
      "<span class=\"input-group-btn\">\n",
      "<button class=\"btn btn-primary js-list-zip-entry-submit met-zip-submit\" data-linkid=\"get-pricing-and-availability-zip-in-modal-submit\" tabindex=\"-1\" type=\"submit\">OK</button>\n",
      "</span>\n",
      "<span class=\"inline-help\">ZIP Code</span>\n",
      "<span class=\"checkbox-label\">Compare</span>\n",
      "<span class=\"art-pl-itemNum art-sr-itemNum\">520293</span>\n",
      "<span class=\"art-pl-modelNum art-sr-modelNum\">JVM3160RFSS</span>\n",
      "<span aria-label=\"Rated 4.5 Stars\">\n",
      "<i aria-hidden=\"true\" class=\"icon-product-rating-45 ratings-small met-product-rating art-pl-productRatings7\" data-rating=\"4.3817\" title=\"Rated 4.5 Stars\"></i>\n",
      "</span>\n",
      "<span>Enter your location</span>\n",
      "<span class=\"input-group-btn\">\n",
      "<button class=\"btn btn-primary js-list-zip-entry-submit met-zip-submit\" data-linkid=\"get-pricing-and-availability-zip-in-modal-submit\" tabindex=\"-1\" type=\"submit\">OK</button>\n",
      "</span>\n",
      "<span class=\"inline-help\">ZIP Code</span>\n",
      "<span class=\"checkbox-label\">Compare</span>\n",
      "<span class=\"art-pl-itemNum art-sr-itemNum\">1021613</span>\n",
      "<span class=\"art-pl-modelNum art-sr-modelNum\">WML55011HS</span>\n",
      "<span aria-label=\"Rated 4.5 Stars\">\n",
      "<i aria-hidden=\"true\" class=\"icon-product-rating-45 ratings-small met-product-rating art-pl-productRatings8\" data-rating=\"4.6812\" title=\"Rated 4.5 Stars\"></i>\n",
      "</span>\n",
      "<span>Enter your location</span>\n",
      "<span class=\"input-group-btn\">\n",
      "<button class=\"btn btn-primary js-list-zip-entry-submit met-zip-submit\" data-linkid=\"get-pricing-and-availability-zip-in-modal-submit\" tabindex=\"-1\" type=\"submit\">OK</button>\n",
      "</span>\n",
      "<span class=\"inline-help\">ZIP Code</span>\n",
      "<span class=\"checkbox-label\">Compare</span>\n",
      "<span class=\"art-pl-itemNum art-sr-itemNum\">520300</span>\n",
      "<span class=\"art-pl-modelNum art-sr-modelNum\">JVM3160DFWW</span>\n",
      "<span aria-label=\"Rated 4.5 Stars\">\n",
      "<i aria-hidden=\"true\" class=\"icon-product-rating-45 ratings-small met-product-rating art-pl-productRatings9\" data-rating=\"4.3817\" title=\"Rated 4.5 Stars\"></i>\n",
      "</span>\n",
      "<span>Enter your location</span>\n",
      "<span class=\"input-group-btn\">\n",
      "<button class=\"btn btn-primary js-list-zip-entry-submit met-zip-submit\" data-linkid=\"get-pricing-and-availability-zip-in-modal-submit\" tabindex=\"-1\" type=\"submit\">OK</button>\n",
      "</span>\n",
      "<span class=\"inline-help\">ZIP Code</span>\n",
      "<span class=\"checkbox-label\">Compare</span>\n",
      "<span class=\"art-pl-itemNum art-sr-itemNum\">520297</span>\n",
      "<span class=\"art-pl-modelNum art-sr-modelNum\">JVM3160DFBB</span>\n",
      "<span aria-label=\"Rated 4.5 Stars\">\n",
      "<i aria-hidden=\"true\" class=\"icon-product-rating-45 ratings-small met-product-rating art-pl-productRatings10\" data-rating=\"4.3817\" title=\"Rated 4.5 Stars\"></i>\n",
      "</span>\n",
      "<span>Enter your location</span>\n",
      "<span class=\"input-group-btn\">\n",
      "<button class=\"btn btn-primary js-list-zip-entry-submit met-zip-submit\" data-linkid=\"get-pricing-and-availability-zip-in-modal-submit\" tabindex=\"-1\" type=\"submit\">OK</button>\n",
      "</span>\n",
      "<span class=\"inline-help\">ZIP Code</span>\n",
      "<span class=\"checkbox-label\">Compare</span>\n",
      "<span class=\"art-pl-itemNum art-sr-itemNum\">589363</span>\n",
      "<span class=\"art-pl-modelNum art-sr-modelNum\">ME16H702SES</span>\n",
      "<span aria-label=\"Rated 4.0 Stars\">\n",
      "<i aria-hidden=\"true\" class=\"icon-product-rating-40 ratings-small met-product-rating art-pl-productRatings11\" data-rating=\"4.045\" title=\"Rated 4.0 Stars\"></i>\n",
      "</span>\n",
      "<span>Enter your location</span>\n",
      "<span class=\"input-group-btn\">\n",
      "<button class=\"btn btn-primary js-list-zip-entry-submit met-zip-submit\" data-linkid=\"get-pricing-and-availability-zip-in-modal-submit\" tabindex=\"-1\" type=\"submit\">OK</button>\n",
      "</span>\n",
      "<span class=\"inline-help\">ZIP Code</span>\n",
      "<span class=\"checkbox-label\">Compare</span>\n",
      "<span class=\"art-pl-itemNum art-sr-itemNum\">1021612</span>\n",
      "<span class=\"art-pl-modelNum art-sr-modelNum\">WMH31017HW</span>\n",
      "<span aria-label=\"Rated 4.5 Stars\">\n",
      "<i aria-hidden=\"true\" class=\"icon-product-rating-45 ratings-small met-product-rating art-pl-productRatings12\" data-rating=\"4.6229\" title=\"Rated 4.5 Stars\"></i>\n",
      "</span>\n",
      "<span>Enter your location</span>\n",
      "<span class=\"input-group-btn\">\n",
      "<button class=\"btn btn-primary js-list-zip-entry-submit met-zip-submit\" data-linkid=\"get-pricing-and-availability-zip-in-modal-submit\" tabindex=\"-1\" type=\"submit\">OK</button>\n",
      "</span>\n",
      "<span class=\"inline-help\">ZIP Code</span>\n",
      "<span class=\"checkbox-label\">Compare</span>\n",
      "<span class=\"art-pl-itemNum art-sr-itemNum\">780438</span>\n",
      "<span class=\"art-pl-modelNum art-sr-modelNum\">ME16K3000AS</span>\n",
      "<span aria-label=\"Rated 4.0 Stars\">\n",
      "<i aria-hidden=\"true\" class=\"icon-product-rating-40 ratings-small met-product-rating art-pl-productRatings13\" data-rating=\"3.945\" title=\"Rated 4.0 Stars\"></i>\n",
      "</span>\n",
      "<span>Enter your location</span>\n",
      "<span class=\"input-group-btn\">\n",
      "<button class=\"btn btn-primary js-list-zip-entry-submit met-zip-submit\" data-linkid=\"get-pricing-and-availability-zip-in-modal-submit\" tabindex=\"-1\" type=\"submit\">OK</button>\n",
      "</span>\n",
      "<span class=\"inline-help\">ZIP Code</span>\n",
      "<span class=\"checkbox-label\">Compare</span>\n",
      "<span class=\"art-pl-itemNum art-sr-itemNum\">848355</span>\n",
      "<span class=\"art-pl-modelNum art-sr-modelNum\">WMH32519HV</span>\n",
      "<span aria-label=\"Rated 4.5 Stars\">\n",
      "<i aria-hidden=\"true\" class=\"icon-product-rating-45 ratings-small met-product-rating art-pl-productRatings14\" data-rating=\"4.6648\" title=\"Rated 4.5 Stars\"></i>\n",
      "</span>\n",
      "<span>Enter your location</span>\n",
      "<span class=\"input-group-btn\">\n",
      "<button class=\"btn btn-primary js-list-zip-entry-submit met-zip-submit\" data-linkid=\"get-pricing-and-availability-zip-in-modal-submit\" tabindex=\"-1\" type=\"submit\">OK</button>\n",
      "</span>\n",
      "<span class=\"inline-help\">ZIP Code</span>\n",
      "<span class=\"checkbox-label\">Compare</span>\n",
      "<span class=\"art-pl-itemNum art-sr-itemNum\">804936</span>\n",
      "<span class=\"art-pl-modelNum art-sr-modelNum\">SMC0912BS</span>\n",
      "<span aria-label=\"Rated 4.0 Stars\">\n",
      "<i aria-hidden=\"true\" class=\"icon-product-rating-40 ratings-small met-product-rating art-pl-productRatings15\" data-rating=\"4.0897\" title=\"Rated 4.0 Stars\"></i>\n",
      "</span>\n",
      "<span>Enter your location</span>\n",
      "<span class=\"input-group-btn\">\n",
      "<button class=\"btn btn-primary js-list-zip-entry-submit met-zip-submit\" data-linkid=\"get-pricing-and-availability-zip-in-modal-submit\" tabindex=\"-1\" type=\"submit\">OK</button>\n",
      "</span>\n",
      "<span class=\"inline-help\">ZIP Code</span>\n",
      "<span class=\"checkbox-label\">Compare</span>\n",
      "<span class=\"art-pl-itemNum art-sr-itemNum\">857403</span>\n",
      "<span class=\"art-pl-modelNum art-sr-modelNum\">FFMV1645TD</span>\n",
      "<span aria-label=\"Rated 4.5 Stars\">\n",
      "<i aria-hidden=\"true\" class=\"icon-product-rating-45 ratings-small met-product-rating art-pl-productRatings16\" data-rating=\"4.5438\" title=\"Rated 4.5 Stars\"></i>\n",
      "</span>\n",
      "<span>Enter your location</span>\n",
      "<span class=\"input-group-btn\">\n",
      "<button class=\"btn btn-primary js-list-zip-entry-submit met-zip-submit\" data-linkid=\"get-pricing-and-availability-zip-in-modal-submit\" tabindex=\"-1\" type=\"submit\">OK</button>\n",
      "</span>\n",
      "<span class=\"inline-help\">ZIP Code</span>\n",
      "<span class=\"checkbox-label\">Compare</span>\n",
      "<span class=\"art-pl-itemNum art-sr-itemNum\">440213</span>\n",
      "<span class=\"art-pl-modelNum art-sr-modelNum\">UMV1160CS</span>\n",
      "<span aria-label=\"Rated 4.5 Stars\">\n",
      "<i aria-hidden=\"true\" class=\"icon-product-rating-45 ratings-small met-product-rating art-pl-productRatings17\" data-rating=\"4.5187\" title=\"Rated 4.5 Stars\"></i>\n",
      "</span>\n",
      "<span>Enter your location</span>\n",
      "<span class=\"input-group-btn\">\n",
      "<button class=\"btn btn-primary js-list-zip-entry-submit met-zip-submit\" data-linkid=\"get-pricing-and-availability-zip-in-modal-submit\" tabindex=\"-1\" type=\"submit\">OK</button>\n",
      "</span>\n",
      "<span class=\"inline-help\">ZIP Code</span>\n",
      "<span class=\"checkbox-label\">Compare</span>\n",
      "<span class=\"art-pl-itemNum art-sr-itemNum\">520295</span>\n",
      "<span class=\"art-pl-modelNum art-sr-modelNum\">JVM3160DFCC</span>\n",
      "<span aria-label=\"Rated 4.5 Stars\">\n",
      "<i aria-hidden=\"true\" class=\"icon-product-rating-45 ratings-small met-product-rating art-pl-productRatings18\" data-rating=\"4.4181\" title=\"Rated 4.5 Stars\"></i>\n",
      "</span>\n",
      "<span>Enter your location</span>\n",
      "<span class=\"input-group-btn\">\n",
      "<button class=\"btn btn-primary js-list-zip-entry-submit met-zip-submit\" data-linkid=\"get-pricing-and-availability-zip-in-modal-submit\" tabindex=\"-1\" type=\"submit\">OK</button>\n",
      "</span>\n",
      "<span class=\"inline-help\">ZIP Code</span>\n",
      "<span class=\"checkbox-label\">Compare</span>\n",
      "<span class=\"art-pl-itemNum art-sr-itemNum\">455853</span>\n",
      "<span class=\"art-pl-modelNum art-sr-modelNum\">LMHM2237ST</span>\n",
      "<span aria-label=\"Rated 4.5 Stars\">\n",
      "<i aria-hidden=\"true\" class=\"icon-product-rating-45 ratings-small met-product-rating art-pl-productRatings19\" data-rating=\"4.3187\" title=\"Rated 4.5 Stars\"></i>\n",
      "</span>\n",
      "<span>Enter your location</span>\n",
      "<span class=\"input-group-btn\">\n",
      "<button class=\"btn btn-primary js-list-zip-entry-submit met-zip-submit\" data-linkid=\"get-pricing-and-availability-zip-in-modal-submit\" tabindex=\"-1\" type=\"submit\">OK</button>\n",
      "</span>\n",
      "<span class=\"inline-help\">ZIP Code</span>\n",
      "<span class=\"checkbox-label\">Compare</span>\n",
      "<span class=\"art-pl-itemNum art-sr-itemNum\">425964</span>\n",
      "<span class=\"art-pl-modelNum art-sr-modelNum\">PSA9240SFSS</span>\n",
      "<span aria-label=\"Rated 4.5 Stars\">\n",
      "<i aria-hidden=\"true\" class=\"icon-product-rating-45 ratings-small met-product-rating art-pl-productRatings20\" data-rating=\"4.5\" title=\"Rated 4.5 Stars\"></i>\n",
      "</span>\n",
      "<span>Enter your location</span>\n",
      "<span class=\"input-group-btn\">\n",
      "<button class=\"btn btn-primary js-list-zip-entry-submit met-zip-submit\" data-linkid=\"get-pricing-and-availability-zip-in-modal-submit\" tabindex=\"-1\" type=\"submit\">OK</button>\n",
      "</span>\n",
      "<span class=\"inline-help\">ZIP Code</span>\n",
      "<span class=\"checkbox-label\">Compare</span>\n",
      "<span class=\"art-pl-itemNum art-sr-itemNum\">124292</span>\n",
      "<span class=\"art-pl-modelNum art-sr-modelNum\">LMV2031ST</span>\n",
      "<span aria-label=\"Rated 4.5 Stars\">\n",
      "<i aria-hidden=\"true\" class=\"icon-product-rating-45 ratings-small met-product-rating art-pl-productRatings21\" data-rating=\"4.4148\" title=\"Rated 4.5 Stars\"></i>\n",
      "</span>\n",
      "<span>Enter your location</span>\n",
      "<span class=\"input-group-btn\">\n",
      "<button class=\"btn btn-primary js-list-zip-entry-submit met-zip-submit\" data-linkid=\"get-pricing-and-availability-zip-in-modal-submit\" tabindex=\"-1\" type=\"submit\">OK</button>\n",
      "</span>\n",
      "<span class=\"inline-help\">ZIP Code</span>\n",
      "<span class=\"checkbox-label\">Compare</span>\n",
      "<span aria-label=\"Rated 4.5 Stars\">\n",
      "<i aria-hidden=\"true\" class=\"icon-product-rating-45 ratings-small met-product-rating art-pl-productRatings22\" data-rating=\"4.3214\" title=\"Rated 4.5 Stars\"></i>\n",
      "</span>\n",
      "<span>Enter your location</span>\n",
      "<span class=\"input-group-btn\">\n",
      "<button class=\"btn btn-primary js-list-zip-entry-submit met-zip-submit\" data-linkid=\"get-pricing-and-availability-zip-in-modal-submit\" tabindex=\"-1\" type=\"submit\">OK</button>\n",
      "</span>\n",
      "<span class=\"inline-help\">ZIP Code</span>\n",
      "<span class=\"checkbox-label\">Compare</span>\n",
      "<span class=\"art-pl-itemNum art-sr-itemNum\">571420</span>\n",
      "<span class=\"art-pl-modelNum art-sr-modelNum\">WMH53520CE</span>\n",
      "<span aria-label=\"Rated 4.0 Stars\">\n",
      "<i aria-hidden=\"true\" class=\"icon-product-rating-40 ratings-small met-product-rating art-pl-productRatings23\" data-rating=\"3.9316\" title=\"Rated 4.0 Stars\"></i>\n",
      "</span>\n",
      "<span>Enter your location</span>\n",
      "<span class=\"input-group-btn\">\n",
      "<button class=\"btn btn-primary js-list-zip-entry-submit met-zip-submit\" data-linkid=\"get-pricing-and-availability-zip-in-modal-submit\" tabindex=\"-1\" type=\"submit\">OK</button>\n",
      "</span>\n",
      "<span class=\"inline-help\">ZIP Code</span>\n",
      "<span class=\"checkbox-label\">Compare</span>\n",
      "<span class=\"art-pl-itemNum art-sr-itemNum\">425963</span>\n",
      "<span class=\"art-pl-modelNum art-sr-modelNum\">PSA9120SFSS</span>\n",
      "<span aria-label=\"Rated 4.5 Stars\">\n",
      "<i aria-hidden=\"true\" class=\"icon-product-rating-45 ratings-small met-product-rating art-pl-productRatings24\" data-rating=\"4.3744\" title=\"Rated 4.5 Stars\"></i>\n",
      "</span>\n",
      "<span>Enter your location</span>\n",
      "<span class=\"input-group-btn\">\n",
      "<button class=\"btn btn-primary js-list-zip-entry-submit met-zip-submit\" data-linkid=\"get-pricing-and-availability-zip-in-modal-submit\" tabindex=\"-1\" type=\"submit\">OK</button>\n",
      "</span>\n",
      "<span class=\"inline-help\">ZIP Code</span>\n",
      "<span class=\"checkbox-label\">Compare</span>\n",
      "<span class=\"art-pl-itemNum art-sr-itemNum\">496657</span>\n",
      "<span class=\"art-pl-modelNum art-sr-modelNum\">ME21F707MJT</span>\n",
      "<span aria-label=\"Rated 4.0 Stars\">\n",
      "<i aria-hidden=\"true\" class=\"icon-product-rating-40 ratings-small met-product-rating art-pl-productRatings25\" data-rating=\"3.8333\" title=\"Rated 4.0 Stars\"></i>\n",
      "</span>\n",
      "<span>Enter your location</span>\n",
      "<span class=\"input-group-btn\">\n",
      "<button class=\"btn btn-primary js-list-zip-entry-submit met-zip-submit\" data-linkid=\"get-pricing-and-availability-zip-in-modal-submit\" tabindex=\"-1\" type=\"submit\">OK</button>\n",
      "</span>\n",
      "<span class=\"inline-help\">ZIP Code</span>\n",
      "<span class=\"checkbox-label\">Compare</span>\n",
      "<span class=\"art-pl-itemNum art-sr-itemNum\">124253</span>\n",
      "<span class=\"art-pl-modelNum art-sr-modelNum\">LMV2031SW</span>\n",
      "<span aria-label=\"Rated 4.5 Stars\">\n",
      "<i aria-hidden=\"true\" class=\"icon-product-rating-45 ratings-small met-product-rating art-pl-productRatings26\" data-rating=\"4.4123\" title=\"Rated 4.5 Stars\"></i>\n",
      "</span>\n",
      "<span>Enter your location</span>\n",
      "<span class=\"input-group-btn\">\n",
      "<button class=\"btn btn-primary js-list-zip-entry-submit met-zip-submit\" data-linkid=\"get-pricing-and-availability-zip-in-modal-submit\" tabindex=\"-1\" type=\"submit\">OK</button>\n",
      "</span>\n",
      "<span class=\"inline-help\">ZIP Code</span>\n",
      "<span class=\"checkbox-label\">Compare</span>\n",
      "<span class=\"art-pl-itemNum art-sr-itemNum\">123365</span>\n",
      "<span class=\"art-pl-modelNum art-sr-modelNum\">LMH2235ST</span>\n",
      "<span aria-label=\"Rated 4.0 Stars\">\n",
      "<i aria-hidden=\"true\" class=\"icon-product-rating-40 ratings-small met-product-rating art-pl-productRatings27\" data-rating=\"4.2193\" title=\"Rated 4.0 Stars\"></i>\n",
      "</span>\n",
      "<span>Enter your location</span>\n",
      "<span class=\"input-group-btn\">\n",
      "<button class=\"btn btn-primary js-list-zip-entry-submit met-zip-submit\" data-linkid=\"get-pricing-and-availability-zip-in-modal-submit\" tabindex=\"-1\" type=\"submit\">OK</button>\n",
      "</span>\n",
      "<span class=\"inline-help\">ZIP Code</span>\n",
      "<span class=\"checkbox-label\">Compare</span>\n",
      "<span class=\"art-pl-itemNum art-sr-itemNum\">126219</span>\n",
      "<span class=\"art-pl-modelNum art-sr-modelNum\">LMV2031SB</span>\n",
      "<span aria-label=\"Rated 4.5 Stars\">\n",
      "<i aria-hidden=\"true\" class=\"icon-product-rating-45 ratings-small met-product-rating art-pl-productRatings28\" data-rating=\"4.4123\" title=\"Rated 4.5 Stars\"></i>\n",
      "</span>\n",
      "<span>Enter your location</span>\n",
      "<span class=\"input-group-btn\">\n",
      "<button class=\"btn btn-primary js-list-zip-entry-submit met-zip-submit\" data-linkid=\"get-pricing-and-availability-zip-in-modal-submit\" tabindex=\"-1\" type=\"submit\">OK</button>\n",
      "</span>\n",
      "<span class=\"inline-help\">ZIP Code</span>\n",
      "<span class=\"checkbox-label\">Compare</span>\n",
      "<span class=\"art-pl-itemNum art-sr-itemNum\">439246</span>\n",
      "<span class=\"art-pl-modelNum art-sr-modelNum\">UMV1160CW</span>\n",
      "<span aria-label=\"Rated 4.5 Stars\">\n",
      "<i aria-hidden=\"true\" class=\"icon-product-rating-45 ratings-small met-product-rating art-pl-productRatings29\" data-rating=\"4.5187\" title=\"Rated 4.5 Stars\"></i>\n",
      "</span>\n",
      "<span>Enter your location</span>\n",
      "<span class=\"input-group-btn\">\n",
      "<button class=\"btn btn-primary js-list-zip-entry-submit met-zip-submit\" data-linkid=\"get-pricing-and-availability-zip-in-modal-submit\" tabindex=\"-1\" type=\"submit\">OK</button>\n",
      "</span>\n",
      "<span class=\"inline-help\">ZIP Code</span>\n",
      "<span class=\"checkbox-label\">Compare</span>\n",
      "<span class=\"art-pl-itemNum art-sr-itemNum\">440212</span>\n",
      "<span class=\"art-pl-modelNum art-sr-modelNum\">UMV1160CB</span>\n",
      "<span aria-label=\"Rated 4.5 Stars\">\n",
      "<i aria-hidden=\"true\" class=\"icon-product-rating-45 ratings-small met-product-rating art-pl-productRatings30\" data-rating=\"4.5187\" title=\"Rated 4.5 Stars\"></i>\n",
      "</span>\n",
      "<span>Enter your location</span>\n",
      "<span class=\"input-group-btn\">\n",
      "<button class=\"btn btn-primary js-list-zip-entry-submit met-zip-submit\" data-linkid=\"get-pricing-and-availability-zip-in-modal-submit\" tabindex=\"-1\" type=\"submit\">OK</button>\n",
      "</span>\n",
      "<span class=\"inline-help\">ZIP Code</span>\n",
      "<span class=\"checkbox-label\">Compare</span>\n",
      "<span class=\"art-pl-itemNum art-sr-itemNum\">589361</span>\n",
      "<span class=\"art-pl-modelNum art-sr-modelNum\">ME16H702SEW</span>\n",
      "<span aria-label=\"Rated 4.0 Stars\">\n",
      "<i aria-hidden=\"true\" class=\"icon-product-rating-40 ratings-small met-product-rating art-pl-productRatings31\" data-rating=\"4.045\" title=\"Rated 4.0 Stars\"></i>\n",
      "</span>\n",
      "<span>Enter your location</span>\n",
      "<span class=\"input-group-btn\">\n",
      "<button class=\"btn btn-primary js-list-zip-entry-submit met-zip-submit\" data-linkid=\"get-pricing-and-availability-zip-in-modal-submit\" tabindex=\"-1\" type=\"submit\">OK</button>\n",
      "</span>\n",
      "<span class=\"inline-help\">ZIP Code</span>\n",
      "<span class=\"checkbox-label\">Compare</span>\n",
      "<span class=\"art-pl-itemNum art-sr-itemNum\">589364</span>\n",
      "<span class=\"art-pl-modelNum art-sr-modelNum\">ME18H704SFW</span>\n",
      "<span aria-label=\"Rated 4.0 Stars\">\n",
      "<i aria-hidden=\"true\" class=\"icon-product-rating-40 ratings-small met-product-rating art-pl-productRatings32\" data-rating=\"4.0965\" title=\"Rated 4.0 Stars\"></i>\n",
      "</span>\n",
      "<span>Enter your location</span>\n",
      "<span class=\"input-group-btn\">\n",
      "<button class=\"btn btn-primary js-list-zip-entry-submit met-zip-submit\" data-linkid=\"get-pricing-and-availability-zip-in-modal-submit\" tabindex=\"-1\" type=\"submit\">OK</button>\n",
      "</span>\n",
      "<span class=\"inline-help\">ZIP Code</span>\n",
      "<span class=\"checkbox-label\">Compare</span>\n",
      "<span class=\"art-pl-itemNum art-sr-itemNum\">589358</span>\n",
      "<span class=\"art-pl-modelNum art-sr-modelNum\">ME18H704SFB</span>\n",
      "<span aria-label=\"Rated 4.0 Stars\">\n",
      "<i aria-hidden=\"true\" class=\"icon-product-rating-40 ratings-small met-product-rating art-pl-productRatings33\" data-rating=\"4.0965\" title=\"Rated 4.0 Stars\"></i>\n",
      "</span>\n",
      "<span>Enter your location</span>\n",
      "<span class=\"input-group-btn\">\n",
      "<button class=\"btn btn-primary js-list-zip-entry-submit met-zip-submit\" data-linkid=\"get-pricing-and-availability-zip-in-modal-submit\" tabindex=\"-1\" type=\"submit\">OK</button>\n",
      "</span>\n",
      "<span class=\"inline-help\">ZIP Code</span>\n",
      "<span class=\"checkbox-label\">Compare</span>\n",
      "<span class=\"art-pl-itemNum art-sr-itemNum\">495923</span>\n",
      "<span class=\"art-pl-modelNum art-sr-modelNum\">LMVH1711ST</span>\n",
      "<span aria-label=\"Rated 4.5 Stars\">\n",
      "<i aria-hidden=\"true\" class=\"icon-product-rating-45 ratings-small met-product-rating art-pl-productRatings34\" data-rating=\"4.2949\" title=\"Rated 4.5 Stars\"></i>\n",
      "</span>\n",
      "<span>Enter your location</span>\n",
      "<span class=\"input-group-btn\">\n",
      "<button class=\"btn btn-primary js-list-zip-entry-submit met-zip-submit\" data-linkid=\"get-pricing-and-availability-zip-in-modal-submit\" tabindex=\"-1\" type=\"submit\">OK</button>\n",
      "</span>\n",
      "<span class=\"inline-help\">ZIP Code</span>\n",
      "<span class=\"checkbox-label\">Compare</span>\n",
      "<span class=\"art-pl-itemNum art-sr-itemNum\">327420</span>\n",
      "<span class=\"art-pl-modelNum art-sr-modelNum\">R1874T</span>\n",
      "<span aria-label=\"Rated 4.5 Stars\">\n",
      "<i aria-hidden=\"true\" class=\"icon-product-rating-45 ratings-small met-product-rating art-pl-productRatings35\" data-rating=\"4.5\" title=\"Rated 4.5 Stars\"></i>\n",
      "</span>\n",
      "<span>Enter your location</span>\n",
      "<span class=\"input-group-btn\">\n",
      "<button class=\"btn btn-primary js-list-zip-entry-submit met-zip-submit\" data-linkid=\"get-pricing-and-availability-zip-in-modal-submit\" tabindex=\"-1\" type=\"submit\">OK</button>\n",
      "</span>\n",
      "<span class=\"inline-help\">ZIP Code</span>\n",
      "<span class=\"checkbox-label\">Compare</span>\n"
     ]
    }
   ],
   "source": [
    "for li in soup.find_all('ul',attrs={'class':'product-cards-grid'}):\n",
    "        for link in li.findAll('span'):\n",
    "            print(link)"
   ]
  },
  {
   "cell_type": "code",
   "execution_count": 10,
   "metadata": {},
   "outputs": [],
   "source": [
    "base_url = 'https://www.lowes.com'"
   ]
  },
  {
   "cell_type": "code",
   "execution_count": 11,
   "metadata": {},
   "outputs": [],
   "source": [
    "links =[]\n",
    "for li in soup.find_all('ul',attrs={'class':'product-cards-grid'}):\n",
    "    for link in li.findAll('a',attrs = {'class':'display-block met-product'}):\n",
    "        new=link.get('href')\n",
    "        complter_url = base_url + new\n",
    "#         print(complter_url)\n",
    "        links.append(complter_url)\n",
    "        \n",
    "#         print(len(link))\n",
    "#         print(link.get('href'))"
   ]
  },
  {
   "cell_type": "code",
   "execution_count": 12,
   "metadata": {},
   "outputs": [
    {
     "data": {
      "text/plain": [
       "'https://www.lowes.com/pd/Whirlpool-2-1-cu-ft-Over-the-Range-Microwave-with-Sensor-Cooking-Fingerprint-Resistant-Fingerprint-Resistant-Stainless-Steel-Common-30-in-Actual-29-938-in/1000293843'"
      ]
     },
     "execution_count": 12,
     "metadata": {},
     "output_type": "execute_result"
    }
   ],
   "source": [
    "links[1]"
   ]
  },
  {
   "cell_type": "code",
   "execution_count": 13,
   "metadata": {},
   "outputs": [
    {
     "name": "stdout",
     "output_type": "stream",
     "text": [
      "URL https://www.lowes.com/pd/Whirlpool-2-1-cu-ft-Over-the-Range-Microwave-with-Sensor-Cooking-Fingerprint-Resistant-Fingerprint-Resistant-Stainless-Steel-Common-30-in-Actual-29-938-in/1000293843\n"
     ]
    }
   ],
   "source": [
    "import time\n",
    "time.sleep(30)\n",
    "hdr = {'User-Agent': 'Mozilla/5.0', \"content-type\": \"text\"}\n",
    "print('URL', links[1])\n",
    "response = requests.get(links[1])\n",
    "soup1 = BeautifulSoup(response.text, 'html.parser')"
   ]
  },
  {
   "cell_type": "code",
   "execution_count": 49,
   "metadata": {},
   "outputs": [],
   "source": [
    "page_response = requests.get(links[1], timeout=5)\n",
    "page_content = soup(page_response.text, \"lxml\")\n",
    "\n"
   ]
  },
  {
   "cell_type": "code",
   "execution_count": 56,
   "metadata": {},
   "outputs": [],
   "source": [
    "page_content = soup1"
   ]
  },
  {
   "cell_type": "code",
   "execution_count": 60,
   "metadata": {},
   "outputs": [],
   "source": [
    "json_tag = page_content.find('script',{'type':'application/json'})\n"
   ]
  },
  {
   "cell_type": "code",
   "execution_count": 66,
   "metadata": {},
   "outputs": [
    {
     "data": {
      "text/plain": [
       "[]"
      ]
     },
     "execution_count": 66,
     "metadata": {},
     "output_type": "execute_result"
    }
   ],
   "source": [
    "page_content.find_all('script',{'type':'application/json'})"
   ]
  },
  {
   "cell_type": "code",
   "execution_count": 14,
   "metadata": {},
   "outputs": [
    {
     "name": "stdout",
     "output_type": "stream",
     "text": [
      "1111 Ratings\n"
     ]
    }
   ],
   "source": [
    "for ratings_count in soup1.find_all('span',{'class':'reviews-count art-pdp-lblTopRatingSummaryValue'}):\n",
    "    print(ratings_count.text)"
   ]
  },
  {
   "cell_type": "code",
   "execution_count": 15,
   "metadata": {},
   "outputs": [
    {
     "name": "stdout",
     "output_type": "stream",
     "text": [
      "4.5\n"
     ]
    }
   ],
   "source": [
    "for rating in soup1.find_all('span',{'class':'js-average-rating'}):\n",
    "    print(rating.text)"
   ]
  },
  {
   "cell_type": "code",
   "execution_count": 16,
   "metadata": {},
   "outputs": [
    {
     "name": "stdout",
     "output_type": "stream",
     "text": [
      "878061\n"
     ]
    }
   ],
   "source": [
    "for Item_number in soup1.find_all('span',{'class':'met-product-item-number'}):\n",
    "    print(Item_number.text)"
   ]
  },
  {
   "cell_type": "code",
   "execution_count": 17,
   "metadata": {},
   "outputs": [
    {
     "name": "stdout",
     "output_type": "stream",
     "text": [
      "WMH53521HZ\n"
     ]
    }
   ],
   "source": [
    "for model_number in soup1.find_all('span',{'class':'met-product-model'}):\n",
    "    print(model_number.text)"
   ]
  },
  {
   "cell_type": "code",
   "execution_count": 18,
   "metadata": {},
   "outputs": [],
   "source": [
    "Item_name=soup1.find('h1',{'class':'h3'}).text.strip()"
   ]
  },
  {
   "cell_type": "code",
   "execution_count": 19,
   "metadata": {},
   "outputs": [],
   "source": [
    "Description = soup1.find('div',{'class':'grid-50 v-spacing-small'}).text.strip()"
   ]
  },
  {
   "cell_type": "code",
   "execution_count": 394,
   "metadata": {},
   "outputs": [
    {
     "name": "stdout",
     "output_type": "stream",
     "text": [
      "[<span content=\"undefined\" itemprop=\"branchCode\"></span>, <span style=\"display: none\">\n",
      "                esi.pricing =  /pd/GE-1-6-cu-ft-Over-the-Range-Microwave-Stainless-Steel-Common-30-in-Actual-29-875-in/50059199/pricing <br/>\n",
      "                esi.availability = /pd/GE-1-6-cu-ft-Over-the-Range-Microwave-Stainless-Steel-Common-30-in-Actual-29-875-in/50059199/availability <br/>\n",
      "</span>, <span class=\"ada screen-reader-only\">for pricing and availability, click for more info</span>, <span class=\"ada screen-reader-only\" id=\"ada-zipcode-describedby\">Please enter your zip code.</span>, <span class=\"input-group-btn\">\n",
      "<button aria-describedby=\"ada-submit-button-describedby\" aria-labelledby=\"ada-submit-button-describedby\" class=\"met-zip-submit btn btn-primary\" role=\"button\" type=\"submit\">Ok</button>\n",
      "</span>, <span class=\"ada screen-reader-only\" id=\"ada-submit-button-describedby\">Submit This Form</span>]\n"
     ]
    }
   ],
   "source": [
    "for div in soup1.find_all('div',{'class':'pd-right grid-50 tablet-grid-50 grid-parent trench trench-large no-background position-relative'}):\n",
    "    print(div.find_all('span'))"
   ]
  },
  {
   "cell_type": "code",
   "execution_count": 37,
   "metadata": {},
   "outputs": [],
   "source": [
    "json_tags = soup1.find_all('script',{'type':'text/javascript'})"
   ]
  },
  {
   "cell_type": "code",
   "execution_count": 43,
   "metadata": {
    "scrolled": true
   },
   "outputs": [
    {
     "ename": "SyntaxError",
     "evalue": "unexpected EOF while parsing (<ipython-input-43-18411158082e>, line 1)",
     "output_type": "error",
     "traceback": [
      "\u001b[1;36m  File \u001b[1;32m\"<ipython-input-43-18411158082e>\"\u001b[1;36m, line \u001b[1;32m1\u001b[0m\n\u001b[1;33m    for i in json_tags[0].text:\u001b[0m\n\u001b[1;37m                               ^\u001b[0m\n\u001b[1;31mSyntaxError\u001b[0m\u001b[1;31m:\u001b[0m unexpected EOF while parsing\n"
     ]
    }
   ],
   "source": [
    "for i in json_tags[0].text:"
   ]
  },
  {
   "cell_type": "code",
   "execution_count": 78,
   "metadata": {},
   "outputs": [],
   "source": [
    "xprice = '//*[@id=\"main\"]/div[4]/div/section[1]/div[3]/div[2]/div[1]/div/span[1]/text()'"
   ]
  },
  {
   "cell_type": "code",
   "execution_count": 72,
   "metadata": {},
   "outputs": [],
   "source": [
    "from lxml import html "
   ]
  },
  {
   "cell_type": "code",
   "execution_count": 73,
   "metadata": {},
   "outputs": [],
   "source": [
    "doc = html.fromstring(response.content)"
   ]
  },
  {
   "cell_type": "code",
   "execution_count": 75,
   "metadata": {},
   "outputs": [
    {
     "data": {
      "text/plain": [
       "<Element html at 0x940a228>"
      ]
     },
     "execution_count": 75,
     "metadata": {},
     "output_type": "execute_result"
    }
   ],
   "source": [
    "doc"
   ]
  },
  {
   "cell_type": "code",
   "execution_count": 79,
   "metadata": {},
   "outputs": [],
   "source": [
    "price = doc.xpath(xprice)"
   ]
  },
  {
   "cell_type": "code",
   "execution_count": 80,
   "metadata": {},
   "outputs": [
    {
     "data": {
      "text/plain": [
       "[]"
      ]
     },
     "execution_count": 80,
     "metadata": {},
     "output_type": "execute_result"
    }
   ],
   "source": [
    "price"
   ]
  }
 ],
 "metadata": {
  "kernelspec": {
   "display_name": "Python 3",
   "language": "python",
   "name": "python3"
  },
  "language_info": {
   "codemirror_mode": {
    "name": "ipython",
    "version": 3
   },
   "file_extension": ".py",
   "mimetype": "text/x-python",
   "name": "python",
   "nbconvert_exporter": "python",
   "pygments_lexer": "ipython3",
   "version": "3.7.4"
  }
 },
 "nbformat": 4,
 "nbformat_minor": 2
}
